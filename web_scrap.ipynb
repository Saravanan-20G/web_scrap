{
  "cells": [
    {
      "cell_type": "markdown",
      "metadata": {
        "id": "view-in-github",
        "colab_type": "text"
      },
      "source": [
        "<a href=\"https://colab.research.google.com/github/Saravanan-20G/web_scrap/blob/main/web_scrap.ipynb\" target=\"_parent\"><img src=\"https://colab.research.google.com/assets/colab-badge.svg\" alt=\"Open In Colab\"/></a>"
      ]
    },
    {
      "cell_type": "markdown",
      "source": [
        "# New Section"
      ],
      "metadata": {
        "id": "ijCfp54xd_5S"
      }
    },
    {
      "cell_type": "code",
      "source": [
        "from bs4 import BeautifulSoup\n",
        "import requests"
      ],
      "metadata": {
        "id": "TBPwhCNVE9Dl"
      },
      "execution_count": 1,
      "outputs": []
    },
    {
      "cell_type": "code",
      "source": [
        "URL = \"https://www.amazon.in/Redmi-Arctic-Storage-Dimensity-Slimmest/dp/B0CQPGG8KG/ref=sr_1_1_sspa?crid=2VXRPFG0ABE1T&dib=eyJ2IjoiMSJ9.xWh_VuhE19114cMQ_dFkjXSDyEkg3u0p0HLGy69yjS2ENMPKehjIpW7p6Za_IaUXnsRQ47DXK-CO2RGqEOp0xBvVTTjlOC6snAp19o_LKZbNpKpO0DUNbjHlZZPCJB1PAspFUmpsrIgKdyx-9JXubcbhS1io06dQKVurhMbg-_ICKp23_AMU-1ptajtDGgeUuRe1dygczzJHJxqwsBkOEtDsCf3TaaxTc0AKbqlo7KU.8QDWZ1CBg1LZ3rl6lQSSa7cATOEzCPsLnxBQdhXiOH8&dib_tag=se&keywords=samsung%2Bm30s&qid=1710226040&sprefix=samsund%2Bm30s%2Caps%2C227&sr=8-1-spons&sp_csd=d2lkZ2V0TmFtZT1zcF9hdGY&th=1\"\n",
        "\n",
        "#Find Your User-Agent: https://httpbin.org/get\n",
        "headers = {\"User-Agent\": \"Mozilla/5.0 (Windows NT 10.0; Win64; x64) AppleWebKit/537.36 (KHTML, like Gecko) Chrome/78.0.3904.108 Safari/537.36\", \"Accept-Encoding\":\"gzip, deflate\", \"Accept\":\"text/html,application/xhtml+xml,application/xml;q=0.9,*/*;q=0.8\", \"DNT\":\"1\",\"Connection\":\"close\", \"Upgrade-Insecure-Requests\":\"1\"}\n",
        "\n",
        "page = requests.get(URL, headers=headers)\n",
        "\n",
        "soup1 = BeautifulSoup(page.content, \"html.parser\")\n",
        "\n",
        "soup2 = BeautifulSoup(soup1.prettify(), \"html.parser\")\n",
        "\n",
        "title = soup2.find(id='productTitle').get_text()\n",
        "\n",
        "price = soup2.find(class_ ='a-price-whole').get_text()\n",
        "\n",
        "#review_count = soup2.find(data-hook ='total-review-count').get_text()\n",
        "review_count = soup2.find(attrs={\"data-hook\": \"total-review-count\"}).get_text()\n",
        "\n",
        "\n",
        "#review = soup2.find(class_ ='a-row cm_cr_grid_center_container').get_text()\n",
        "\n",
        "print(title)\n",
        "print(price)\n",
        "print(review_count)"
      ],
      "metadata": {
        "colab": {
          "base_uri": "https://localhost:8080/"
        },
        "id": "SNPoWDPyFIoS",
        "outputId": "a994f13a-ee30-45b2-b565-41275a4eee5b"
      },
      "execution_count": 2,
      "outputs": [
        {
          "output_type": "stream",
          "name": "stdout",
          "text": [
            "\n",
            "              Redmi Note 13 5G (Arctic White, 6GB RAM, 128GB Storage) | 5G Ready | 120Hz Bezel-Less AMOLED | 7.mm Slimmest Note Ever | 108MP Pro-Grade Camera\n",
            "             \n",
            "\n",
            "                                  17,999\n",
            "                                  \n",
            "                                   .\n",
            "                                  \n",
            "\n",
            "\n",
            "                       1,979 global ratings\n",
            "                      \n"
          ]
        }
      ]
    }
  ],
  "metadata": {
    "colab": {
      "provenance": [],
      "toc_visible": true,
      "authorship_tag": "ABX9TyPGIVxrK0fSfBn50m5BYlZn",
      "include_colab_link": true
    },
    "kernelspec": {
      "display_name": "Python 3",
      "name": "python3"
    },
    "language_info": {
      "name": "python"
    }
  },
  "nbformat": 4,
  "nbformat_minor": 0
}